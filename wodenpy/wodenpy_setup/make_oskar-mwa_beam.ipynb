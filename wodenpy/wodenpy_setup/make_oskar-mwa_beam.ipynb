{
 "cells": [
  {
   "cell_type": "markdown",
   "metadata": {},
   "source": [
    "# Creating an OSKAR MWA telescope"
   ]
  },
  {
   "cell_type": "code",
   "execution_count": null,
   "metadata": {},
   "outputs": [],
   "source": [
    "metafits = '../../../examples/metafits/1126115208_metafits.fits'\n",
    "\n",
    "\n",
    "selection = np.arange(0,len(args.east),2)\n",
    "\n",
    "\n",
    "with fits.open(args.metafits_filename) as f:\n",
    "    ##Need to order the antennas via the Tile column to be consistent\n",
    "    ## with hyperdrive\n",
    "    tilenames = f[1].data['Tile']\n",
    "\n",
    "    antenna_order = get_antenna_order(tilenames)\n",
    "\n",
    "    ##Get the east, north, height antenna positions from the metafits\n",
    "    east = f[1].data['East'][antenna_order]\n",
    "    north = f[1].data['North'][antenna_order]\n",
    "    height = f[1].data['Height'][antenna_order]\n",
    "    tilenames = f[1].data['Tilename'][antenna_order]\n"
   ]
  },
  {
   "cell_type": "code",
   "execution_count": null,
   "metadata": {},
   "outputs": [],
   "source": [
    "\n",
    "\t\t\n",
    "##Spacing between dipoles is 1.1m on the ground mesh.\n",
    "##Station layout coords are relative to station centre\n",
    "##Farthest dipole centre from station centre is then (3*1.1)/2 = 1.65\n",
    "##Assume flat layout (height = 0)\n",
    "east_start = -1.65\n",
    "north_start = -1.65\n",
    "\n",
    "#os.mkdir('station')\n",
    "out_file = open('./station/layout.txt','w+')\n",
    "\n",
    "for i in xrange(4):\n",
    "\tfor j in xrange(4):\n",
    "\t\tout_file.write('%.3f %.3f\\n' %(east_start,north_start))\n",
    "\t\teast_start += 1.1\n",
    "\teast_start = -1.65\n",
    "\tnorth_start += 1.1\n",
    "\t\n",
    "out_file.close()"
   ]
  }
 ],
 "metadata": {
  "kernelspec": {
   "display_name": "everybeam",
   "language": "python",
   "name": "python3"
  },
  "language_info": {
   "name": "python",
   "version": "3.12.4"
  }
 },
 "nbformat": 4,
 "nbformat_minor": 2
}
