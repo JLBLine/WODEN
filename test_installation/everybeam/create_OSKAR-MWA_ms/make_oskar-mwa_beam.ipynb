{
 "cells": [
  {
   "cell_type": "markdown",
   "metadata": {},
   "source": [
    "# Creating an OSKAR MWA telescope"
   ]
  },
  {
   "cell_type": "code",
   "execution_count": 10,
   "metadata": {},
   "outputs": [],
   "source": [
    "from subprocess import call\n",
    "from astropy.io import fits\n",
    "import numpy as np\n",
    "from pathlib import Path\n"
   ]
  },
  {
   "cell_type": "markdown",
   "metadata": {},
   "source": [
    "First of all, create the telescope dir."
   ]
  },
  {
   "cell_type": "code",
   "execution_count": 11,
   "metadata": {},
   "outputs": [],
   "source": [
    "Path.mkdir(Path(\"MWA_phase1\"), exist_ok=True)"
   ]
  },
  {
   "cell_type": "markdown",
   "metadata": {},
   "source": [
    "Next, write the array centre longitude, latitude and height."
   ]
  },
  {
   "cell_type": "code",
   "execution_count": 4,
   "metadata": {},
   "outputs": [],
   "source": [
    "with open(\"MWA_phase1/position.txt\", 'w') as outfile:\n",
    "    outfile.write(\"116.67081523611111 -26.703319405555554 377.827\\n\")"
   ]
  },
  {
   "cell_type": "markdown",
   "metadata": {},
   "source": [
    "Get the `enh` coords and tile names of the MWA phase 1 layout from a metafits file. Write the locations into the `layout.txt` file."
   ]
  },
  {
   "cell_type": "code",
   "execution_count": 78,
   "metadata": {},
   "outputs": [
    {
     "name": "stdout",
     "output_type": "stream",
     "text": [
      "['Tile011' 'Tile012' 'Tile013' 'Tile014' 'Tile015' 'Tile016' 'Tile017'\n",
      " 'Tile018' 'Tile021' 'Tile022' 'Tile023' 'Tile024' 'Tile025' 'Tile026'\n",
      " 'Tile027' 'Tile028' 'Tile031' 'Tile032' 'Tile033' 'Tile034' 'Tile035'\n",
      " 'Tile036' 'Tile037' 'Tile038' 'Tile041' 'Tile042' 'Tile043' 'Tile044'\n",
      " 'Tile045' 'Tile046' 'Tile047' 'Tile048' 'Tile051' 'Tile052' 'Tile053'\n",
      " 'Tile054' 'Tile055' 'Tile056' 'Tile057' 'Tile058' 'Tile061' 'Tile062'\n",
      " 'Tile063' 'Tile064' 'Tile065' 'Tile066' 'Tile067' 'Tile068' 'Tile071'\n",
      " 'Tile072' 'Tile073' 'Tile074' 'Tile075' 'Tile076' 'Tile077' 'Tile078'\n",
      " 'Tile081' 'Tile082' 'Tile083' 'Tile084' 'Tile085' 'Tile086' 'Tile087'\n",
      " 'Tile088' 'Tile091' 'Tile092' 'Tile093' 'Tile094' 'Tile095' 'Tile096'\n",
      " 'Tile097' 'Tile098' 'Tile101' 'Tile102' 'Tile103' 'Tile104' 'Tile105'\n",
      " 'Tile106' 'Tile107' 'Tile108' 'Tile111' 'Tile112' 'Tile113' 'Tile114'\n",
      " 'Tile115' 'Tile116' 'Tile117' 'Tile118' 'Tile121' 'Tile122' 'Tile123'\n",
      " 'Tile124' 'Tile125' 'Tile126' 'Tile127' 'Tile128' 'Tile131' 'Tile132'\n",
      " 'Tile133' 'Tile134' 'Tile135' 'Tile136' 'Tile137' 'Tile138' 'Tile141'\n",
      " 'Tile142' 'Tile143' 'Tile144' 'Tile145' 'Tile146' 'Tile147' 'Tile148'\n",
      " 'Tile151' 'Tile152' 'Tile153' 'Tile154' 'Tile155' 'Tile156' 'Tile157'\n",
      " 'Tile158' 'Tile161' 'Tile162' 'Tile163' 'Tile164' 'Tile165' 'Tile166'\n",
      " 'Tile167' 'Tile168']\n"
     ]
    }
   ],
   "source": [
    "from wodenpy.wodenpy_setup.run_setup import get_antenna_order\n",
    "\n",
    "##Ignore the dipamps part, this is a zenith pointing EoR0 field metafits\n",
    "metafits = '../../../examples/metafits/1088285600_DipAmps.metafits'\n",
    "\n",
    "with fits.open(metafits) as f:\n",
    "    ##Need to order the antennas via the Tile column to be consistent\n",
    "    ## with hyperdrive\n",
    "    tileinds = f[1].data['Tile']\n",
    "    \n",
    "    ##to match hyperdrive, WODEN also reorders the antennas by tile name\n",
    "    antenna_order = get_antenna_order(tileinds)\n",
    "\n",
    "    ##metafits has positions for both X and Y pols which are identical so\n",
    "    ##get every second position\n",
    "    selection = np.arange(0, 256, 2)\n",
    "\n",
    "    ##Get the east, north, height antenna positions from the metafits\n",
    "    east = f[1].data['East'][antenna_order][selection]\n",
    "    north = f[1].data['North'][antenna_order][selection]\n",
    "    height = f[1].data['Height'][antenna_order][selection]\n",
    "    tilenames = f[1].data['Tilename'][antenna_order][selection]\n",
    "    orig_full_tile_names = f[1].data['Tilename']\n",
    "    \n",
    "print(tilenames)\n",
    "# print(orig_tile_names)\n",
    "    \n",
    "with open(\"MWA_phase1/layout.txt\", 'w') as outfile:\n",
    "    for e, n, h in zip(east, north, height):\n",
    "        outfile.write(f\"{e:.12f} {n:.12f} {h:.12f}\\n\")\n"
   ]
  },
  {
   "cell_type": "markdown",
   "metadata": {},
   "source": [
    "Finally, we need to detail the station layout, which is an MWA tile. We could do this with a telescope-wide `station/layout.txt` file, but to link positions to tiles, I'll create stations named after each tile. TODO infact, this could be a hack to do missing dipoles/dipole amplitudes in the future?"
   ]
  },
  {
   "cell_type": "code",
   "execution_count": 29,
   "metadata": {},
   "outputs": [],
   "source": [
    "##Spacing between dipoles is 1.1m on the ground mesh.\n",
    "##Station layout coords are relative to station centre\n",
    "##Farthest dipole centre from station centre is then (3*1.1)/2 = 1.65\n",
    "##Assume flat layout (height = 0)\n",
    "\n",
    "\n",
    "for tile in tilenames:\n",
    "    Path.mkdir(Path(f\"MWA_phase1/{tile}\"), exist_ok=True)\n",
    "\n",
    "    east_start = -1.65\n",
    "    north_start = -1.65\n",
    "\n",
    "    #os.mkdir('station')\n",
    "    out_file = open(f'MWA_phase1/{tile}/layout.txt','w+')\n",
    "\n",
    "    for i in range(4):\n",
    "        for j in range(4):\n",
    "            out_file.write('%.3f %.3f\\n' %(east_start,north_start))\n",
    "            east_start += 1.1\n",
    "        east_start = -1.65\n",
    "        north_start += 1.1\n",
    "\n",
    "    out_file.close()"
   ]
  },
  {
   "cell_type": "markdown",
   "metadata": {},
   "source": [
    "Make a really simple single point source at phase flat spectrum sky model."
   ]
  },
  {
   "cell_type": "code",
   "execution_count": 30,
   "metadata": {},
   "outputs": [],
   "source": [
    "ra = 0.0\n",
    "dec = -26.703319405555554\n",
    "flux_I = 1.0\n",
    "flux_Q = 0.0\n",
    "flux_U = 0.0\n",
    "flux_V = 0.0\n",
    "ref_freq = 180e6\n",
    "SI = 0.0\n",
    "\n",
    "with open(\"skymodel.osm\", 'w') as outfile:\n",
    "    outfile.write(f\"{ra} {dec} {flux_I} {flux_Q} {flux_U} {flux_V} {ref_freq} {SI}\\n\")\n"
   ]
  },
  {
   "cell_type": "markdown",
   "metadata": {},
   "source": [
    "Now we have the telescope and sky model, we can run `OSKAR`. Obviously this requires `OSKAR` to be installed. I've written a settings file `run_oskar_sim_interferometer.ini`, which I run via\n",
    "\n",
    "```bash\n",
    "$ oskar_sim_interferometer run_oskar_sim_interferometer.ini\n",
    "\n",
    "```\n",
    "\n",
    "## Make a dipole flagged version"
   ]
  },
  {
   "cell_type": "code",
   "execution_count": 36,
   "metadata": {},
   "outputs": [],
   "source": [
    "Path.mkdir(Path(\"MWA_phase1_flags\"), exist_ok=True)\n",
    "with open(\"MWA_phase1_flags/position.txt\", 'w') as outfile:\n",
    "    outfile.write(\"116.67081523611111 -26.703319405555554 377.827\\n\")\n",
    "    \n",
    "with open(\"MWA_phase1_flags/layout.txt\", 'w') as outfile:\n",
    "    for e, n, h in zip(east, north, height):\n",
    "        outfile.write(f\"{e:.12f} {n:.12f} {h:.12f}\\n\")\n"
   ]
  },
  {
   "cell_type": "code",
   "execution_count": 76,
   "metadata": {},
   "outputs": [
    {
     "name": "stdout",
     "output_type": "stream",
     "text": [
      "[86 87 84 85 82 83 80 81 94 95 92 93 90 91 88 89 70 71 68 69 66 67 64 65\n",
      " 78 79 76 77 74 75 72 73]\n",
      "Tile011 Tile011\n",
      "Tile012 Tile012\n",
      "Tile013 Tile013\n",
      "Tile014 Tile014\n",
      "Tile015 Tile015\n",
      "Tile016 Tile016\n",
      "Tile017 Tile017\n",
      "Tile018 Tile018\n",
      "Tile021 Tile021\n",
      "Tile022 Tile022\n",
      "Tile023 Tile023\n",
      "Tile024 Tile024\n",
      "Tile025 Tile025\n",
      "Tile026 Tile026\n",
      "Tile027 Tile027\n",
      "Tile028 Tile028\n"
     ]
    }
   ],
   "source": [
    "metafits = '../../../examples/metafits/1088285600_DipAmps.metafits'\n",
    "\n",
    "##Insert some dipole flags into the metafits (just flag the first 16 for now,\n",
    "# one for each dipole)\n",
    "with fits.open(metafits) as f:\n",
    "    ##Need to order the antennas via the Tile column to be consistent\n",
    "    ## with hyperdrive\n",
    "    \n",
    "    delays = f[1].data['Delays']\n",
    "    \n",
    "    ##cos of the stupid re-ordering of the antennas by antenna name, find\n",
    "    ##what the actual first 16 antennas are\n",
    "    first_16 = antenna_order[:32]\n",
    "    \n",
    "    for dipole in range(16):\n",
    "        \n",
    "        x_dip = dipole*2\n",
    "        y_dip = x_dip + 1\n",
    "        \n",
    "        print(orig_full_tile_names[first_16[x_dip]], orig_full_tile_names[first_16[y_dip]])\n",
    "        \n",
    "        delays[first_16[x_dip]][dipole] = 32\n",
    "        delays[first_16[y_dip]][dipole] = 32\n",
    "    \n",
    "    f[1].data['Delays'] = delays\n",
    "    \n",
    "    ##Write this out, which means we can use it internally to WODEN and hyperbeam\n",
    "    f.writeto('1088285600_flags.metafits', overwrite=True)\n",
    "    \n",
    "# for i in range(128):\n",
    "#     print(delays[2*i], delays[2*i + 1])"
   ]
  },
  {
   "cell_type": "markdown",
   "metadata": {},
   "source": [
    "Now go through writing out each station layout, but if there is a flag, leave out the dipole."
   ]
  },
  {
   "cell_type": "code",
   "execution_count": 83,
   "metadata": {},
   "outputs": [
    {
     "name": "stdout",
     "output_type": "stream",
     "text": [
      "0 Tile011\n",
      "1 Tile012\n",
      "2 Tile013\n",
      "3 Tile014\n",
      "4 Tile015\n",
      "5 Tile016\n",
      "6 Tile017\n",
      "7 Tile018\n",
      "8 Tile021\n",
      "9 Tile022\n",
      "10 Tile023\n",
      "11 Tile024\n",
      "12 Tile025\n",
      "13 Tile026\n",
      "14 Tile027\n",
      "15 Tile028\n"
     ]
    }
   ],
   "source": [
    "reorder_delays = delays[antenna_order, :]\n",
    "reorder_delays = reorder_delays[selection, :]\n",
    "\n",
    "flag_tile_names = []\n",
    "\n",
    "for tile_ind, tile in enumerate(tilenames):\n",
    "    Path.mkdir(Path(f\"MWA_phase1_flags/{tile}\"), exist_ok=True)\n",
    "\n",
    "    east_start = -1.65\n",
    "    north_start = -1.65\n",
    "\n",
    "    #os.mkdir('station')\n",
    "    out_file = open(f'MWA_phase1_flags/{tile}/layout.txt','w+')\n",
    "\n",
    "    for i in range(4):\n",
    "        for j in range(4):\n",
    "            if reorder_delays[tile_ind][i*4+j] == 32:\n",
    "                print(tile_ind, tilenames[tile_ind])\n",
    "                flag_tile_names.append(tilenames[tile_ind])\n",
    "                pass\n",
    "            else:\n",
    "                out_file.write('%.3f %.3f\\n' %(east_start,north_start))\n",
    "            east_start += 1.1\n",
    "        east_start = -1.65\n",
    "        north_start += 1.1\n",
    "\n",
    "    out_file.close()"
   ]
  },
  {
   "cell_type": "code",
   "execution_count": 69,
   "metadata": {},
   "outputs": [],
   "source": [
    "\n",
    "np.savetxt('MWA_phase1_flags/station_type_map.txt', range(128), fmt='%d')\n"
   ]
  }
 ],
 "metadata": {
  "kernelspec": {
   "display_name": "everybeam",
   "language": "python",
   "name": "python3"
  },
  "language_info": {
   "codemirror_mode": {
    "name": "ipython",
    "version": 3
   },
   "file_extension": ".py",
   "mimetype": "text/x-python",
   "name": "python",
   "nbconvert_exporter": "python",
   "pygments_lexer": "ipython3",
   "version": "3.12.4"
  }
 },
 "nbformat": 4,
 "nbformat_minor": 2
}
