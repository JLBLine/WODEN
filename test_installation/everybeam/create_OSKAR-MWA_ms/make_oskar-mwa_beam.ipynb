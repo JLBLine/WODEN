{
 "cells": [
  {
   "cell_type": "markdown",
   "metadata": {},
   "source": [
    "# Creating an OSKAR MWA telescope"
   ]
  },
  {
   "cell_type": "code",
   "execution_count": 10,
   "metadata": {},
   "outputs": [],
   "source": [
    "from subprocess import call\n",
    "from astropy.io import fits\n",
    "import numpy as np\n",
    "from pathlib import Path\n"
   ]
  },
  {
   "cell_type": "markdown",
   "metadata": {},
   "source": [
    "First of all, create the telescope dir."
   ]
  },
  {
   "cell_type": "code",
   "execution_count": 11,
   "metadata": {},
   "outputs": [],
   "source": [
    "Path.mkdir(Path(\"MWA_phase1\"), exist_ok=True)"
   ]
  },
  {
   "cell_type": "markdown",
   "metadata": {},
   "source": [
    "Next, write the array centre longitude, latitude and height."
   ]
  },
  {
   "cell_type": "code",
   "execution_count": 4,
   "metadata": {},
   "outputs": [],
   "source": [
    "with open(\"MWA_phase1/position.txt\", 'w') as outfile:\n",
    "    outfile.write(\"116.67081523611111 -26.703319405555554 377.827\\n\")"
   ]
  },
  {
   "cell_type": "markdown",
   "metadata": {},
   "source": [
    "Get the `enh` coords and tile names of the MWA phase 1 layout from a metafits file. Write the locations into the `layout.txt` file."
   ]
  },
  {
   "cell_type": "code",
   "execution_count": 12,
   "metadata": {},
   "outputs": [],
   "source": [
    "metafits = '../../../examples/metafits/1126115208_metafits.fits'\n",
    "\n",
    "with fits.open(metafits) as f:\n",
    "    ##Need to order the antennas via the Tile column to be consistent\n",
    "    ## with hyperdrive\n",
    "    tilenames = f[1].data['Tile']\n",
    "\n",
    "    ##metafits has positions for both X and Y pols which are identical so\n",
    "    ##get every second position\n",
    "    selection = np.arange(0, 256, 2)\n",
    "\n",
    "    ##Get the east, north, height antenna positions from the metafits\n",
    "    east = f[1].data['East'][selection]\n",
    "    north = f[1].data['North'][selection]\n",
    "    height = f[1].data['Height'][selection]\n",
    "    tilenames = f[1].data['Tilename'][selection]\n",
    "    \n",
    "with open(\"MWA_phase1/layout.txt\", 'w') as outfile:\n",
    "    for e, n, h in zip(east, north, height):\n",
    "        outfile.write(f\"{e:.12f} {n:.12f} {h:.12f}\\n\")\n"
   ]
  },
  {
   "cell_type": "markdown",
   "metadata": {},
   "source": [
    "Finally, we need to detail the station layout, which is an MWA tile. We could do this with a telescope-wide `station/layout.txt` file, but to link positions to tiles, I'll create stations named after each tile. TODO infact, this could be a hack to do missing dipoles/dipole amplitudes in the future?"
   ]
  },
  {
   "cell_type": "code",
   "execution_count": 20,
   "metadata": {},
   "outputs": [],
   "source": [
    "##Spacing between dipoles is 1.1m on the ground mesh.\n",
    "##Station layout coords are relative to station centre\n",
    "##Farthest dipole centre from station centre is then (3*1.1)/2 = 1.65\n",
    "##Assume flat layout (height = 0)\n",
    "\n",
    "\n",
    "for tile in tilenames:\n",
    "    Path.mkdir(Path(f\"MWA_phase1/{tile}\"), exist_ok=True)\n",
    "\n",
    "    east_start = -1.65\n",
    "    north_start = -1.65\n",
    "\n",
    "    #os.mkdir('station')\n",
    "    out_file = open(f'MWA_phase1/{tile}/layout.txt','w+')\n",
    "\n",
    "    for i in range(4):\n",
    "        for j in range(4):\n",
    "            out_file.write('%.3f %.3f\\n' %(east_start,north_start))\n",
    "            east_start += 1.1\n",
    "        east_start = -1.65\n",
    "        north_start += 1.1\n",
    "\n",
    "    out_file.close()"
   ]
  },
  {
   "cell_type": "markdown",
   "metadata": {},
   "source": [
    "Make a really simple single point source at phase flat spectrum sky model."
   ]
  },
  {
   "cell_type": "code",
   "execution_count": 22,
   "metadata": {},
   "outputs": [],
   "source": [
    "ra = 0.0\n",
    "dec = -26.703319405555554\n",
    "flux_I = 1.0\n",
    "flux_Q = 0.0\n",
    "flux_U = 0.0\n",
    "flux_V = 0.0\n",
    "ref_freq = 180e6\n",
    "SI = 0.0\n",
    "\n",
    "with open(\"skymodel.osm\", 'w') as outfile:\n",
    "    outfile.write(f\"{ra} {dec} {flux_I} {flux_Q} {flux_U} {flux_V} {ref_freq} {SI}\\n\")\n"
   ]
  },
  {
   "cell_type": "markdown",
   "metadata": {},
   "source": [
    "Now we have the telescope and sky model, we can run `OSKAR`. Obviously this requires `OSKAR` to be installed. I've written a settings file `run_oskar_sim_interferometer.ini`, which I run via\n",
    "\n",
    "```bash\n",
    "$ oskar_sim_interferometer run_oskar_sim_interferometer.ini\n",
    "\n",
    "```"
   ]
  }
 ],
 "metadata": {
  "kernelspec": {
   "display_name": "everybeam",
   "language": "python",
   "name": "python3"
  },
  "language_info": {
   "codemirror_mode": {
    "name": "ipython",
    "version": 3
   },
   "file_extension": ".py",
   "mimetype": "text/x-python",
   "name": "python",
   "nbconvert_exporter": "python",
   "pygments_lexer": "ipython3",
   "version": "3.12.4"
  }
 },
 "nbformat": 4,
 "nbformat_minor": 2
}
