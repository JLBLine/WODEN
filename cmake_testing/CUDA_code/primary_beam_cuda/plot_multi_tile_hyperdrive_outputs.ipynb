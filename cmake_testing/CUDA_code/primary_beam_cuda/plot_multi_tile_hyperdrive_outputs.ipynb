{
 "cells": [
  {
   "cell_type": "markdown",
   "id": "23edb783",
   "metadata": {},
   "source": [
    "# Setting things up and plotting for tests for `primary_beam_cuda.cu`\n",
    "\n",
    "First up, here are all the module loads you need to do. Define some constants as well while we're at it"
   ]
  },
  {
   "cell_type": "code",
   "execution_count": 1,
   "id": "505359b1",
   "metadata": {},
   "outputs": [
    {
     "name": "stdout",
     "output_type": "stream",
     "text": [
      "0.5.1\n"
     ]
    }
   ],
   "source": [
    "from astropy.io import fits\n",
    "import numpy as np\n",
    "from astropy.wcs import WCS\n",
    "from copy import deepcopy\n",
    "import erfa\n",
    "import matplotlib.pyplot as plt\n",
    "from mpl_toolkits.axes_grid1 import make_axes_locatable\n",
    "import mwa_hyperbeam\n",
    "from subprocess import call\n",
    "\n",
    "print(mwa_hyperbeam.__version__)\n",
    "\n",
    "D2R = np.pi / 180.0\n",
    "VELC = 299792458.0\n",
    "MWA_LAT = -26.7033194444\n",
    "MWA_LAT_RAD = MWA_LAT * D2R\n",
    "\n",
    "lst_rad = 74.15019835*D2R\n",
    "lst_deg = lst_rad / D2R\n",
    "\n",
    "zenith_delays = [0, 0, 0, 0, 0, 0, 0, 0, 0, 0, 0, 0, 0, 0, 0, 0]\n",
    "off_zenith1_delays = [0, 4, 8, 12, 0, 4, 8, 12, 0, 4, 8, 12, 0, 4, 8, 12]\n",
    "off_zenith2_delays = [0, 2, 4, 8, 2, 4, 8, 12, 4, 8, 12, 16, 8, 12, 16, 20]\n",
    "\n",
    "all_delays = [zenith_delays, off_zenith1_delays, off_zenith2_delays]\n",
    "all_delay_names = [\"zenith\", \"offzen1\", \"offzen2\"]\n",
    "freqs = [100e+6, 150e+6, 200e+6]"
   ]
  },
  {
   "cell_type": "code",
   "execution_count": 2,
   "id": "77b13a48",
   "metadata": {},
   "outputs": [],
   "source": [
    "def add_colourbar(fig=None,ax=None,im=None,label=False,top=False):\n",
    "    \"\"\"\n",
    "    Adds a colourbar (colorbar, fine) in a nice way to a subplot\n",
    "\n",
    "    Parameters\n",
    "    ----------\n",
    "    fig : matplotlib.pyplot.figure instance\n",
    "        The figure that the plot lives on\n",
    "    ax : matplotlib.pyplot.figure.add_subplot instance\n",
    "        The axis to append a colorbar to\n",
    "    im : ax.imshow output\n",
    "        The output of imshow to base the colourbar on\n",
    "    label : string\n",
    "        Optional - add a label to the colorbar\n",
    "    top : Bool\n",
    "        Optional - put the colorbar above the axis instead of to the right\n",
    "    \"\"\"\n",
    "\n",
    "    divider = make_axes_locatable(ax)\n",
    "    if top == True:\n",
    "        cax = divider.append_axes(\"top\", size=\"5%\", pad=0.05)\n",
    "        cbar = fig.colorbar(im, cax = cax,orientation='horizontal')\n",
    "        cax.xaxis.set_ticks_position('top')\n",
    "        cax.xaxis.set_label_position('top')\n",
    "    else:\n",
    "        cax = divider.append_axes(\"right\", size=\"5%\", pad=0.05)\n",
    "        cbar = fig.colorbar(im, cax = cax)\n",
    "    if label:\n",
    "        cbar.set_label(label)\n"
   ]
  },
  {
   "cell_type": "markdown",
   "id": "27421cfe",
   "metadata": {},
   "source": [
    "# Now you need to run `ctest` to generate test outputs"
   ]
  },
  {
   "cell_type": "markdown",
   "id": "30c89fc6",
   "metadata": {},
   "source": [
    "# Plotting outputs\n",
    "Here be some functions to load up `ctest` outputs, and then plot them"
   ]
  },
  {
   "cell_type": "code",
   "execution_count": null,
   "id": "74325bb8",
   "metadata": {},
   "outputs": [],
   "source": [
    "def load_data(filename):\n",
    "    \"\"\"Load the data out of the C testing code into complex arrays\"\"\"\n",
    "    azs, zas, gx_re, gx_im, Dx_re, Dx_im, Dy_re, Dy_im, gy_re, gy_im, freqs = np.loadtxt(filename, unpack=True)\n",
    "\n",
    "    gx = gx_re + gx_im*1j\n",
    "    Dx = Dx_re + Dx_im*1j\n",
    "    Dy = Dy_re + Dy_im*1j\n",
    "    gy = gy_re + gy_im*1j\n",
    "\n",
    "    return azs, zas, gx, Dx, Dy, gy, freqs\n",
    "\n",
    "def plot_jones_square(azs, zas, gx, Dx, Dy, gy, plot_freqs, filename, tag='MWA_analy',\n",
    "                      num_freqs=1, num_times=1, num_tiles=1, limits=True,\n",
    "                      nside=101):\n",
    "    \"\"\"Take the data saved by the C testing code, convert into\n",
    "    2D arrays and plot with imshow. Plot the gains and leakages\n",
    "    as well as the linear Stokes pols. saves into the 'plots' dir.\"\"\"\n",
    "    outname = filename.split('/')[-1].split('_')[-1]\n",
    "\n",
    "    num_comps = int(len(azs) / (num_freqs*num_times*num_tiles))\n",
    "    \n",
    "    print('num_comps', num_comps)\n",
    "\n",
    "    for tile in range(num_tiles):\n",
    "        for time in range(num_times):\n",
    "            # for freq_ind in range(num_freqs):\n",
    "            for freq_ind in range(1):\n",
    "                freq = plot_freqs[freq_ind]\n",
    "\n",
    "                # low = time*num_freqs*num_comps + freq_ind*num_comps\n",
    "                low = tile*num_times*num_freqs*num_comps + time*num_freqs*num_comps + freq_ind*num_comps\n",
    "                high = low + num_comps\n",
    "                \n",
    "                print(low, high)\n",
    "\n",
    "                fig, axs = plt.subplots(2, 2, figsize=(12, 12))\n",
    "\n",
    "                this_gx = gx[low:high]\n",
    "                this_Dx = Dx[low:high]\n",
    "                this_Dy = Dy[low:high]\n",
    "                this_gy = gy[low:high]\n",
    "\n",
    "                this_gx.shape = (nside, nside)\n",
    "                this_Dx.shape = (nside, nside)\n",
    "                this_Dy.shape = (nside, nside)\n",
    "                this_gy.shape = (nside, nside)\n",
    "\n",
    "                im1 = axs[0,0].imshow(this_gx.real, origin='lower')\n",
    "                im2 = axs[0,1].imshow(this_Dx.real, origin='lower')\n",
    "                im3 = axs[1,0].imshow(this_Dy.real, origin='lower')\n",
    "                im4 = axs[1,1].imshow(this_gy.real, origin='lower')\n",
    "\n",
    "                ims = [im1, im2, im3, im4]\n",
    "\n",
    "                for im, ax in zip(ims, axs.flatten()):\n",
    "                    add_colourbar(im=im, ax=ax, fig=fig)\n",
    "\n",
    "                axs[0,0].set_title('Real gx')\n",
    "                axs[0,1].set_title('Real Dx')\n",
    "                axs[1,0].set_title('Real Dy')\n",
    "                axs[1,1].set_title('Real gy')\n",
    "                #\n",
    "                for ax in axs.flatten():\n",
    "                    ax.set_yticks([])\n",
    "                    ax.set_xticks([])\n",
    "\n",
    "                savename = f'plots/jones_{tag}_gains_nside{nside:d}_tile{tile:03d}t{time:02d}_f{freq/1e+6:.3f}MHz.png'\n",
    "                print(savename)\n",
    "                fig.savefig(savename,bbox_inches='tight')\n",
    "                plt.show()\n",
    "                plt.close()\n",
    "\n",
    "\n",
    "                fig, axs = plt.subplots(2, 2, figsize=(12, 12))\n",
    "\n",
    "                xx = this_gx*np.conjugate(this_gx) + this_Dx*np.conjugate(this_Dx)\n",
    "                xy = this_gx*np.conjugate(this_Dy) + this_Dx*np.conjugate(this_gy)\n",
    "                yx = this_Dy*np.conjugate(this_gx) + this_gy*np.conjugate(this_Dx)\n",
    "                yy = this_gy*np.conjugate(this_gy) + this_Dy*np.conjugate(this_Dy)\n",
    "                \n",
    "                print(\"shapes sucka\", xx.shape, xy.shape, yx.shape, yy.shape)\n",
    "\n",
    "                print(np.max(np.abs(xx)), np.max(np.abs(yy)))\n",
    "                \n",
    "                if limits:\n",
    "                    vmin_xx = vmin_yy = 0.0\n",
    "                    vmax_xx = vmax_yy = 0.2\n",
    "                else:\n",
    "                    vmin_xx = np.real(xx).min()\n",
    "                    vmax_xx = np.real(xx).max()\n",
    "                    vmin_yy = np.real(yy).min()\n",
    "                    vmax_yy = np.real(yy).max()\n",
    "                \n",
    "\n",
    "                im1 = axs[0,0].imshow(np.real(xx), origin='lower',\n",
    "                                    vmin=vmin_xx,vmax=vmax_xx)\n",
    "                im2 = axs[0,1].imshow(np.real(xy), origin='lower')# ,vmin=0,vmax=0.3)\n",
    "                im3 = axs[1,0].imshow(np.real(yx), origin='lower')# ,vmin=0,vmax=0.3)\n",
    "                im4 = axs[1,1].imshow(np.real(yy), origin='lower',\n",
    "                                    vmin=vmin_yy,vmax=vmax_yy)\n",
    "\n",
    "                ims = [im1, im2, im3, im4]\n",
    "\n",
    "                for im, ax in zip(ims, axs.flatten()):\n",
    "                    add_colourbar(im=im, ax=ax, fig=fig)\n",
    "\n",
    "                axs[0,0].set_title('XX')\n",
    "                axs[0,1].set_title('XY')\n",
    "                axs[1,0].set_title('YX')\n",
    "                axs[1,1].set_title('YY')\n",
    "                #\n",
    "                for ax in axs.flatten():\n",
    "                    ax.set_yticks([])\n",
    "                    ax.set_xticks([])\n",
    "\n",
    "                savename = f'plots/linear_pol_{tag}_gains_nside{nside:d}_tile{tile:03d}t{time:02d}_f{freq/1e+6:.3f}MHz.png'\n",
    "                print(savename)\n",
    "                fig.savefig(savename,bbox_inches='tight')\n",
    "                plt.show()\n",
    "                plt.close()"
   ]
  },
  {
   "cell_type": "markdown",
   "id": "e6e28096",
   "metadata": {},
   "source": [
    "# MWA FEE plots\n",
    "Let's plot up a bunch of pointings and frequencies, check everything is happy. There should be three frequencies and two time steps for each combination of delays and central frequency. Each central freq was run with three fine frequencies that are so similar, should return the same values. They are testing with the C code, but good to plot them up to see that they make sense on the sky"
   ]
  },
  {
   "cell_type": "code",
   "execution_count": 18,
   "id": "2cf4fd71",
   "metadata": {
    "scrolled": true
   },
   "outputs": [
    {
     "name": "stdout",
     "output_type": "stream",
     "text": [
      "../../../build/cmake_testing/CUDA_code/primary_beam_cuda/hyperbeam_zenith_200_two_ants_rot_double.txt\n",
      "num_comps 7803\n",
      "0 7803\n"
     ]
    },
    {
     "ename": "ValueError",
     "evalue": "cannot reshape array of size 7803 into shape (51,51)",
     "output_type": "error",
     "traceback": [
      "\u001b[0;31m---------------------------------------------------------------------------\u001b[0m",
      "\u001b[0;31mValueError\u001b[0m                                Traceback (most recent call last)",
      "\u001b[0;32m/tmp/ipykernel_171337/3200034530.py\u001b[0m in \u001b[0;36m<module>\u001b[0;34m\u001b[0m\n\u001b[1;32m     11\u001b[0m         \u001b[0mprint\u001b[0m\u001b[0;34m(\u001b[0m\u001b[0mfilename\u001b[0m\u001b[0;34m)\u001b[0m\u001b[0;34m\u001b[0m\u001b[0;34m\u001b[0m\u001b[0m\n\u001b[1;32m     12\u001b[0m         \u001b[0mazs\u001b[0m\u001b[0;34m,\u001b[0m \u001b[0mzas\u001b[0m\u001b[0;34m,\u001b[0m \u001b[0mgx\u001b[0m\u001b[0;34m,\u001b[0m \u001b[0mDx\u001b[0m\u001b[0;34m,\u001b[0m \u001b[0mDy\u001b[0m\u001b[0;34m,\u001b[0m \u001b[0mgy\u001b[0m\u001b[0;34m,\u001b[0m \u001b[0mfreqs\u001b[0m \u001b[0;34m=\u001b[0m \u001b[0mload_data\u001b[0m\u001b[0;34m(\u001b[0m\u001b[0mfilename\u001b[0m\u001b[0;34m)\u001b[0m\u001b[0;34m\u001b[0m\u001b[0;34m\u001b[0m\u001b[0m\n\u001b[0;32m---> 13\u001b[0;31m         plot_jones_square(azs, zas, gx, Dx, Dy, gy, \n\u001b[0m\u001b[1;32m     14\u001b[0m                           \u001b[0mplot_freqs\u001b[0m\u001b[0;34m,\u001b[0m \u001b[0mfilename\u001b[0m\u001b[0;34m,\u001b[0m\u001b[0;34m\u001b[0m\u001b[0;34m\u001b[0m\u001b[0m\n\u001b[1;32m     15\u001b[0m                           \u001b[0mtag\u001b[0m\u001b[0;34m=\u001b[0m\u001b[0;34mf'hyperbeam_rot_{delay_name}_two_ants'\u001b[0m\u001b[0;34m,\u001b[0m\u001b[0;34m\u001b[0m\u001b[0;34m\u001b[0m\u001b[0m\n",
      "\u001b[0;32m/tmp/ipykernel_171337/3318625558.py\u001b[0m in \u001b[0;36mplot_jones_square\u001b[0;34m(azs, zas, gx, Dx, Dy, gy, plot_freqs, filename, tag, num_freqs, num_times, num_tiles, limits, nside)\u001b[0m\n\u001b[1;32m     40\u001b[0m                 \u001b[0mthis_gy\u001b[0m \u001b[0;34m=\u001b[0m \u001b[0mgy\u001b[0m\u001b[0;34m[\u001b[0m\u001b[0mlow\u001b[0m\u001b[0;34m:\u001b[0m\u001b[0mhigh\u001b[0m\u001b[0;34m]\u001b[0m\u001b[0;34m\u001b[0m\u001b[0;34m\u001b[0m\u001b[0m\n\u001b[1;32m     41\u001b[0m \u001b[0;34m\u001b[0m\u001b[0m\n\u001b[0;32m---> 42\u001b[0;31m                 \u001b[0mthis_gx\u001b[0m\u001b[0;34m.\u001b[0m\u001b[0mshape\u001b[0m \u001b[0;34m=\u001b[0m \u001b[0;34m(\u001b[0m\u001b[0mnside\u001b[0m\u001b[0;34m,\u001b[0m \u001b[0mnside\u001b[0m\u001b[0;34m)\u001b[0m\u001b[0;34m\u001b[0m\u001b[0;34m\u001b[0m\u001b[0m\n\u001b[0m\u001b[1;32m     43\u001b[0m                 \u001b[0mthis_Dx\u001b[0m\u001b[0;34m.\u001b[0m\u001b[0mshape\u001b[0m \u001b[0;34m=\u001b[0m \u001b[0;34m(\u001b[0m\u001b[0mnside\u001b[0m\u001b[0;34m,\u001b[0m \u001b[0mnside\u001b[0m\u001b[0;34m)\u001b[0m\u001b[0;34m\u001b[0m\u001b[0;34m\u001b[0m\u001b[0m\n\u001b[1;32m     44\u001b[0m                 \u001b[0mthis_Dy\u001b[0m\u001b[0;34m.\u001b[0m\u001b[0mshape\u001b[0m \u001b[0;34m=\u001b[0m \u001b[0;34m(\u001b[0m\u001b[0mnside\u001b[0m\u001b[0;34m,\u001b[0m \u001b[0mnside\u001b[0m\u001b[0;34m)\u001b[0m\u001b[0;34m\u001b[0m\u001b[0;34m\u001b[0m\u001b[0m\n",
      "\u001b[0;31mValueError\u001b[0m: cannot reshape array of size 7803 into shape (51,51)"
     ]
    },
    {
     "data": {
      "image/png": "[encoded data removed]",
      "text/plain": [
       "<Figure size 864x864 with 4 Axes>"
      ]
     },
     "metadata": {
      "needs_background": "light"
     },
     "output_type": "display_data"
    }
   ],
   "source": [
    "call('mkdir -p plots', shell=True)\n",
    "\n",
    "for freq in [200e+6]:\n",
    "    ##Ran code with three very similar freqs, all freqs should\n",
    "    ##lie withing a frequency band of the model so be identical\n",
    "    plot_freqs = [freq-40e+4, freq, freq + 40e+3]\n",
    "    \n",
    "    for delay_name in ['zenith']:\n",
    "\n",
    "        filename = f\"../../../build/cmake_testing/CUDA_code/primary_beam_cuda/hyperbeam_{delay_name}_{int(freq/1e+6)}_two_ants_rot_double.txt\"\n",
    "        print(filename)\n",
    "        azs, zas, gx, Dx, Dy, gy, freqs = load_data(filename)\n",
    "        plot_jones_square(azs, zas, gx, Dx, Dy, gy, \n",
    "                          plot_freqs, filename, \n",
    "                          tag=f'hyperbeam_rot_{delay_name}_two_ants',\n",
    "                          num_times=2, num_freqs=3, nside=51, num_tiles=2)"
   ]
  }
 ],
 "metadata": {
  "kernelspec": {
   "display_name": "Python 3 (ipykernel)",
   "language": "python",
   "name": "python3"
  },
  "language_info": {
   "codemirror_mode": {
    "name": "ipython",
    "version": 3
   },
   "file_extension": ".py",
   "mimetype": "text/x-python",
   "name": "python",
   "nbconvert_exporter": "python",
   "pygments_lexer": "ipython3",
   "version": "3.8.10"
  }
 },
 "nbformat": 4,
 "nbformat_minor": 5
}
